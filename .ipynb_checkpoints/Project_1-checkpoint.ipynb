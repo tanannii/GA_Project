{
 "cells": [
  {
   "cell_type": "markdown",
   "id": "07030d68",
   "metadata": {},
   "source": [
    "# 1. Import "
   ]
  },
  {
   "cell_type": "code",
   "execution_count": 1,
   "id": "7ba6389b",
   "metadata": {},
   "outputs": [],
   "source": [
    "import os\n",
    "import pandas as pd\n",
    "import numpy as np\n",
    "import random as rd\n",
    "import datetime as dt\n",
    "import re\n",
    "from datetime import timedelta\n",
    "import warnings\n",
    "warnings.filterwarnings('ignore')\n",
    "import time\n",
    "import csv\n",
    "import matplotlib.pyplot as plt\n",
    "\n",
    "# Import Seaborn.\n",
    "import seaborn as sns\n",
    "\n",
    "pd.set_option('display.max_columns', 1000)\n",
    "pd.set_option('display.max_rows', 1000)\n",
    "pd.set_option('display.width', 1000)"
   ]
  },
  {
   "cell_type": "code",
   "execution_count": 2,
   "id": "0c5a95be",
   "metadata": {},
   "outputs": [],
   "source": [
    "#cwd\n",
    "os.chdir(\"C:/Users/annitan/Desktop/GA/DSIF-SG-7 - Copy/Project_1/data\")"
   ]
  },
  {
   "cell_type": "markdown",
   "id": "e5e34746",
   "metadata": {},
   "source": [
    "# 2. Load Data\n",
    "## 2.1 Load ACT Data"
   ]
  },
  {
   "cell_type": "code",
   "execution_count": 3,
   "id": "3e8af159",
   "metadata": {},
   "outputs": [],
   "source": [
    "#Load Data into Data Frame\n",
    "act2017 = pd.read_csv('act_2017.csv')"
   ]
  },
  {
   "cell_type": "code",
   "execution_count": 4,
   "id": "5af22def",
   "metadata": {},
   "outputs": [
    {
     "data": {
      "text/plain": [
       "Index(['State', 'Participation', 'English', 'Math', 'Reading', 'Science', 'Composite'], dtype='object')"
      ]
     },
     "execution_count": 4,
     "metadata": {},
     "output_type": "execute_result"
    }
   ],
   "source": [
    "act2017.columns"
   ]
  },
  {
   "cell_type": "code",
   "execution_count": 5,
   "id": "8182c94e",
   "metadata": {},
   "outputs": [
    {
     "data": {
      "text/plain": [
       "Index(['State', 'Participation', 'English', 'Math', 'Reading', 'Science', 'Composite', 'Year'], dtype='object')"
      ]
     },
     "execution_count": 5,
     "metadata": {},
     "output_type": "execute_result"
    }
   ],
   "source": [
    "#Add column for year\n",
    "act2017['Year'] = '2017'\n",
    "act2017.columns"
   ]
  },
  {
   "cell_type": "code",
   "execution_count": 6,
   "id": "377a585f",
   "metadata": {},
   "outputs": [
    {
     "data": {
      "text/plain": [
       "Index(['State', 'Participation', 'Composite'], dtype='object')"
      ]
     },
     "execution_count": 6,
     "metadata": {},
     "output_type": "execute_result"
    }
   ],
   "source": [
    "act2018 = pd.read_csv('act_2018.csv')\n",
    "act2018.columns"
   ]
  },
  {
   "cell_type": "code",
   "execution_count": 7,
   "id": "2e450152",
   "metadata": {},
   "outputs": [
    {
     "data": {
      "text/plain": [
       "Index(['State', 'Participation', 'Composite', 'Year'], dtype='object')"
      ]
     },
     "execution_count": 7,
     "metadata": {},
     "output_type": "execute_result"
    }
   ],
   "source": [
    "act2018['Year'] = '2018'\n",
    "act2018.columns"
   ]
  },
  {
   "cell_type": "code",
   "execution_count": 8,
   "id": "b3f96b62",
   "metadata": {},
   "outputs": [
    {
     "data": {
      "text/plain": [
       "Index(['State', 'Participation', 'Composite'], dtype='object')"
      ]
     },
     "execution_count": 8,
     "metadata": {},
     "output_type": "execute_result"
    }
   ],
   "source": [
    "act2019 = pd.read_csv('act_2019.csv')\n",
    "act2019.columns"
   ]
  },
  {
   "cell_type": "code",
   "execution_count": 9,
   "id": "157e12a2",
   "metadata": {},
   "outputs": [
    {
     "data": {
      "text/plain": [
       "Index(['State', 'Participation', 'Composite', 'Year'], dtype='object')"
      ]
     },
     "execution_count": 9,
     "metadata": {},
     "output_type": "execute_result"
    }
   ],
   "source": [
    "act2019['Year'] = '2019'\n",
    "act2019.columns"
   ]
  },
  {
   "cell_type": "code",
   "execution_count": 10,
   "id": "c5f03fe9",
   "metadata": {},
   "outputs": [],
   "source": [
    "#Drop columns in 2017 to align the columns. "
   ]
  },
  {
   "cell_type": "code",
   "execution_count": 11,
   "id": "eb512fed",
   "metadata": {},
   "outputs": [
    {
     "data": {
      "text/html": [
       "<div>\n",
       "<style scoped>\n",
       "    .dataframe tbody tr th:only-of-type {\n",
       "        vertical-align: middle;\n",
       "    }\n",
       "\n",
       "    .dataframe tbody tr th {\n",
       "        vertical-align: top;\n",
       "    }\n",
       "\n",
       "    .dataframe thead th {\n",
       "        text-align: right;\n",
       "    }\n",
       "</style>\n",
       "<table border=\"1\" class=\"dataframe\">\n",
       "  <thead>\n",
       "    <tr style=\"text-align: right;\">\n",
       "      <th></th>\n",
       "      <th>State</th>\n",
       "      <th>Participation</th>\n",
       "      <th>Composite</th>\n",
       "      <th>Year</th>\n",
       "    </tr>\n",
       "  </thead>\n",
       "  <tbody>\n",
       "    <tr>\n",
       "      <th>0</th>\n",
       "      <td>National</td>\n",
       "      <td>60%</td>\n",
       "      <td>21.0</td>\n",
       "      <td>2017</td>\n",
       "    </tr>\n",
       "    <tr>\n",
       "      <th>1</th>\n",
       "      <td>Alabama</td>\n",
       "      <td>100%</td>\n",
       "      <td>19.2</td>\n",
       "      <td>2017</td>\n",
       "    </tr>\n",
       "  </tbody>\n",
       "</table>\n",
       "</div>"
      ],
      "text/plain": [
       "      State Participation Composite  Year\n",
       "0  National           60%      21.0  2017\n",
       "1   Alabama          100%      19.2  2017"
      ]
     },
     "execution_count": 11,
     "metadata": {},
     "output_type": "execute_result"
    }
   ],
   "source": [
    "act2017 = act2017[['State', 'Participation', 'Composite', 'Year']]\n",
    "act2017.head(2)"
   ]
  },
  {
   "cell_type": "code",
   "execution_count": 12,
   "id": "186bc783",
   "metadata": {},
   "outputs": [
    {
     "data": {
      "text/plain": [
       "State            52\n",
       "Participation    35\n",
       "Composite        35\n",
       "Year              1\n",
       "dtype: int64"
      ]
     },
     "execution_count": 12,
     "metadata": {},
     "output_type": "execute_result"
    }
   ],
   "source": [
    "act2019.nunique()"
   ]
  },
  {
   "cell_type": "code",
   "execution_count": 13,
   "id": "184a666e",
   "metadata": {},
   "outputs": [],
   "source": [
    "#append the dfs\n",
    "act = act2017.append([act2018, act2019])"
   ]
  },
  {
   "cell_type": "code",
   "execution_count": 14,
   "id": "ca5b9e25",
   "metadata": {},
   "outputs": [
    {
     "data": {
      "text/html": [
       "<div>\n",
       "<style scoped>\n",
       "    .dataframe tbody tr th:only-of-type {\n",
       "        vertical-align: middle;\n",
       "    }\n",
       "\n",
       "    .dataframe tbody tr th {\n",
       "        vertical-align: top;\n",
       "    }\n",
       "\n",
       "    .dataframe thead th {\n",
       "        text-align: right;\n",
       "    }\n",
       "</style>\n",
       "<table border=\"1\" class=\"dataframe\">\n",
       "  <thead>\n",
       "    <tr style=\"text-align: right;\">\n",
       "      <th></th>\n",
       "      <th>State</th>\n",
       "      <th>Participation</th>\n",
       "      <th>Composite</th>\n",
       "      <th>Year</th>\n",
       "    </tr>\n",
       "  </thead>\n",
       "  <tbody>\n",
       "    <tr>\n",
       "      <th>0</th>\n",
       "      <td>National</td>\n",
       "      <td>60%</td>\n",
       "      <td>21.0</td>\n",
       "      <td>2017</td>\n",
       "    </tr>\n",
       "    <tr>\n",
       "      <th>1</th>\n",
       "      <td>Alabama</td>\n",
       "      <td>100%</td>\n",
       "      <td>19.2</td>\n",
       "      <td>2017</td>\n",
       "    </tr>\n",
       "  </tbody>\n",
       "</table>\n",
       "</div>"
      ],
      "text/plain": [
       "      State Participation Composite  Year\n",
       "0  National           60%      21.0  2017\n",
       "1   Alabama          100%      19.2  2017"
      ]
     },
     "execution_count": 14,
     "metadata": {},
     "output_type": "execute_result"
    }
   ],
   "source": [
    "act.head(2)"
   ]
  },
  {
   "cell_type": "code",
   "execution_count": 15,
   "id": "6afc83cf",
   "metadata": {},
   "outputs": [],
   "source": [
    "act.rename(columns = {'Composite':'Total_ACT', 'Participation':'Participation_ACT'}, inplace = True)"
   ]
  },
  {
   "cell_type": "code",
   "execution_count": 16,
   "id": "a4b25b3a",
   "metadata": {},
   "outputs": [
    {
     "data": {
      "text/html": [
       "<div>\n",
       "<style scoped>\n",
       "    .dataframe tbody tr th:only-of-type {\n",
       "        vertical-align: middle;\n",
       "    }\n",
       "\n",
       "    .dataframe tbody tr th {\n",
       "        vertical-align: top;\n",
       "    }\n",
       "\n",
       "    .dataframe thead th {\n",
       "        text-align: right;\n",
       "    }\n",
       "</style>\n",
       "<table border=\"1\" class=\"dataframe\">\n",
       "  <thead>\n",
       "    <tr style=\"text-align: right;\">\n",
       "      <th></th>\n",
       "      <th>State</th>\n",
       "      <th>Participation_ACT</th>\n",
       "      <th>Total_ACT</th>\n",
       "      <th>Year</th>\n",
       "    </tr>\n",
       "  </thead>\n",
       "  <tbody>\n",
       "    <tr>\n",
       "      <th>50</th>\n",
       "      <td>Wyoming</td>\n",
       "      <td>100%</td>\n",
       "      <td>19.8</td>\n",
       "      <td>2019</td>\n",
       "    </tr>\n",
       "    <tr>\n",
       "      <th>51</th>\n",
       "      <td>National</td>\n",
       "      <td>52%</td>\n",
       "      <td>20.7</td>\n",
       "      <td>2019</td>\n",
       "    </tr>\n",
       "  </tbody>\n",
       "</table>\n",
       "</div>"
      ],
      "text/plain": [
       "       State Participation_ACT Total_ACT  Year\n",
       "50   Wyoming              100%      19.8  2019\n",
       "51  National               52%      20.7  2019"
      ]
     },
     "execution_count": 16,
     "metadata": {},
     "output_type": "execute_result"
    }
   ],
   "source": [
    "act.tail(2)"
   ]
  },
  {
   "cell_type": "code",
   "execution_count": 17,
   "id": "2205ae90",
   "metadata": {},
   "outputs": [
    {
     "name": "stdout",
     "output_type": "stream",
     "text": [
      "(156, 4)\n"
     ]
    }
   ],
   "source": [
    "print(act.shape)"
   ]
  },
  {
   "cell_type": "code",
   "execution_count": 18,
   "id": "4675e5a0",
   "metadata": {},
   "outputs": [],
   "source": [
    "#remove blank spaces in state\n",
    "act['State'] = act['State'].str.replace('\\s', '', regex=True).str.lower()"
   ]
  },
  {
   "cell_type": "code",
   "execution_count": 19,
   "id": "e55c4169",
   "metadata": {},
   "outputs": [
    {
     "name": "stdout",
     "output_type": "stream",
     "text": [
      "(156, 4)\n"
     ]
    }
   ],
   "source": [
    "print(act.shape)"
   ]
  },
  {
   "cell_type": "code",
   "execution_count": 20,
   "id": "a8acab6f",
   "metadata": {},
   "outputs": [
    {
     "data": {
      "text/html": [
       "<div>\n",
       "<style scoped>\n",
       "    .dataframe tbody tr th:only-of-type {\n",
       "        vertical-align: middle;\n",
       "    }\n",
       "\n",
       "    .dataframe tbody tr th {\n",
       "        vertical-align: top;\n",
       "    }\n",
       "\n",
       "    .dataframe thead th {\n",
       "        text-align: right;\n",
       "    }\n",
       "</style>\n",
       "<table border=\"1\" class=\"dataframe\">\n",
       "  <thead>\n",
       "    <tr style=\"text-align: right;\">\n",
       "      <th></th>\n",
       "      <th>State</th>\n",
       "      <th>Participation_ACT</th>\n",
       "      <th>Total_ACT</th>\n",
       "      <th>Year</th>\n",
       "    </tr>\n",
       "  </thead>\n",
       "  <tbody>\n",
       "    <tr>\n",
       "      <th>0</th>\n",
       "      <td>national</td>\n",
       "      <td>60%</td>\n",
       "      <td>21.0</td>\n",
       "      <td>2017</td>\n",
       "    </tr>\n",
       "    <tr>\n",
       "      <th>1</th>\n",
       "      <td>alabama</td>\n",
       "      <td>100%</td>\n",
       "      <td>19.2</td>\n",
       "      <td>2017</td>\n",
       "    </tr>\n",
       "  </tbody>\n",
       "</table>\n",
       "</div>"
      ],
      "text/plain": [
       "      State Participation_ACT Total_ACT  Year\n",
       "0  national               60%      21.0  2017\n",
       "1   alabama              100%      19.2  2017"
      ]
     },
     "execution_count": 20,
     "metadata": {},
     "output_type": "execute_result"
    }
   ],
   "source": [
    "act.head(2)"
   ]
  },
  {
   "cell_type": "code",
   "execution_count": 21,
   "id": "7ec89967",
   "metadata": {},
   "outputs": [
    {
     "data": {
      "text/plain": [
       "(156, 1)"
      ]
     },
     "execution_count": 21,
     "metadata": {},
     "output_type": "execute_result"
    }
   ],
   "source": [
    "#Extract unique list of States\n",
    "state_list = act[['State']]\n",
    "state_list.shape"
   ]
  },
  {
   "cell_type": "code",
   "execution_count": 22,
   "id": "34974654",
   "metadata": {},
   "outputs": [
    {
     "data": {
      "text/plain": [
       "(52, 1)"
      ]
     },
     "execution_count": 22,
     "metadata": {},
     "output_type": "execute_result"
    }
   ],
   "source": [
    "state_list_unique = state_list.drop_duplicates(subset=['State'],  keep='last')\n",
    "state_list_unique.shape"
   ]
  },
  {
   "cell_type": "code",
   "execution_count": 23,
   "id": "8b068a5f",
   "metadata": {},
   "outputs": [],
   "source": [
    "state_list_unique.to_csv('state_list_unique.csv', encoding ='utf-8', index=False)"
   ]
  },
  {
   "cell_type": "code",
   "execution_count": 24,
   "id": "a3f3abc1",
   "metadata": {},
   "outputs": [],
   "source": [
    "#upload mapping for region state\n",
    "RegionState = pd.read_excel('Region_State.xls')"
   ]
  },
  {
   "cell_type": "code",
   "execution_count": 25,
   "id": "352fb034",
   "metadata": {},
   "outputs": [
    {
     "data": {
      "text/html": [
       "<div>\n",
       "<style scoped>\n",
       "    .dataframe tbody tr th:only-of-type {\n",
       "        vertical-align: middle;\n",
       "    }\n",
       "\n",
       "    .dataframe tbody tr th {\n",
       "        vertical-align: top;\n",
       "    }\n",
       "\n",
       "    .dataframe thead th {\n",
       "        text-align: right;\n",
       "    }\n",
       "</style>\n",
       "<table border=\"1\" class=\"dataframe\">\n",
       "  <thead>\n",
       "    <tr style=\"text-align: right;\">\n",
       "      <th></th>\n",
       "      <th>Region</th>\n",
       "      <th>Division</th>\n",
       "      <th>State</th>\n",
       "    </tr>\n",
       "  </thead>\n",
       "  <tbody>\n",
       "    <tr>\n",
       "      <th>0</th>\n",
       "      <td>Northeast</td>\n",
       "      <td>NewEngland</td>\n",
       "      <td>Connecticut</td>\n",
       "    </tr>\n",
       "    <tr>\n",
       "      <th>1</th>\n",
       "      <td>Northeast</td>\n",
       "      <td>NewEngland</td>\n",
       "      <td>Maine</td>\n",
       "    </tr>\n",
       "  </tbody>\n",
       "</table>\n",
       "</div>"
      ],
      "text/plain": [
       "      Region    Division        State\n",
       "0  Northeast  NewEngland  Connecticut\n",
       "1  Northeast  NewEngland        Maine"
      ]
     },
     "execution_count": 25,
     "metadata": {},
     "output_type": "execute_result"
    }
   ],
   "source": [
    "RegionState.head(2)"
   ]
  },
  {
   "cell_type": "code",
   "execution_count": 26,
   "id": "d556bda8",
   "metadata": {},
   "outputs": [],
   "source": [
    "RegionState['Region'] = RegionState['Region'].astype(str)\n",
    "RegionState['Division'] = RegionState['Division'].astype(str)\n",
    "RegionState['State'] = RegionState['State'].astype(str)\n"
   ]
  },
  {
   "cell_type": "code",
   "execution_count": 27,
   "id": "3dcb9837",
   "metadata": {},
   "outputs": [],
   "source": [
    "#RegionState['State'] = act['State'].str.replace.str.lower()\n",
    "RegionState['Region'] = RegionState['Region'].str.replace('\\s', '', regex=True).str.lower()\n",
    "RegionState['Division'] = RegionState['Division'].str.replace('\\s', '', regex=True).str.lower()\n",
    "RegionState['State'] = RegionState['State'].str.replace('\\s', '', regex=True).str.lower()"
   ]
  },
  {
   "cell_type": "code",
   "execution_count": 28,
   "id": "aaf21125",
   "metadata": {},
   "outputs": [
    {
     "data": {
      "text/html": [
       "<div>\n",
       "<style scoped>\n",
       "    .dataframe tbody tr th:only-of-type {\n",
       "        vertical-align: middle;\n",
       "    }\n",
       "\n",
       "    .dataframe tbody tr th {\n",
       "        vertical-align: top;\n",
       "    }\n",
       "\n",
       "    .dataframe thead th {\n",
       "        text-align: right;\n",
       "    }\n",
       "</style>\n",
       "<table border=\"1\" class=\"dataframe\">\n",
       "  <thead>\n",
       "    <tr style=\"text-align: right;\">\n",
       "      <th></th>\n",
       "      <th>Region</th>\n",
       "      <th>Division</th>\n",
       "      <th>State</th>\n",
       "    </tr>\n",
       "  </thead>\n",
       "  <tbody>\n",
       "    <tr>\n",
       "      <th>0</th>\n",
       "      <td>northeast</td>\n",
       "      <td>newengland</td>\n",
       "      <td>connecticut</td>\n",
       "    </tr>\n",
       "    <tr>\n",
       "      <th>1</th>\n",
       "      <td>northeast</td>\n",
       "      <td>newengland</td>\n",
       "      <td>maine</td>\n",
       "    </tr>\n",
       "  </tbody>\n",
       "</table>\n",
       "</div>"
      ],
      "text/plain": [
       "      Region    Division        State\n",
       "0  northeast  newengland  connecticut\n",
       "1  northeast  newengland        maine"
      ]
     },
     "execution_count": 28,
     "metadata": {},
     "output_type": "execute_result"
    }
   ],
   "source": [
    "RegionState.head(2)"
   ]
  },
  {
   "cell_type": "code",
   "execution_count": 29,
   "id": "024158f7",
   "metadata": {},
   "outputs": [],
   "source": [
    "#Merge Mapping for Region\n",
    "act_mapped = pd.merge(act, RegionState, on='State',how ='left')"
   ]
  },
  {
   "cell_type": "code",
   "execution_count": 30,
   "id": "88ad4674",
   "metadata": {},
   "outputs": [
    {
     "data": {
      "text/html": [
       "<div>\n",
       "<style scoped>\n",
       "    .dataframe tbody tr th:only-of-type {\n",
       "        vertical-align: middle;\n",
       "    }\n",
       "\n",
       "    .dataframe tbody tr th {\n",
       "        vertical-align: top;\n",
       "    }\n",
       "\n",
       "    .dataframe thead th {\n",
       "        text-align: right;\n",
       "    }\n",
       "</style>\n",
       "<table border=\"1\" class=\"dataframe\">\n",
       "  <thead>\n",
       "    <tr style=\"text-align: right;\">\n",
       "      <th></th>\n",
       "      <th>State</th>\n",
       "      <th>Participation_ACT</th>\n",
       "      <th>Total_ACT</th>\n",
       "      <th>Year</th>\n",
       "      <th>Region</th>\n",
       "      <th>Division</th>\n",
       "    </tr>\n",
       "  </thead>\n",
       "  <tbody>\n",
       "    <tr>\n",
       "      <th>0</th>\n",
       "      <td>national</td>\n",
       "      <td>60%</td>\n",
       "      <td>21.0</td>\n",
       "      <td>2017</td>\n",
       "      <td>NaN</td>\n",
       "      <td>NaN</td>\n",
       "    </tr>\n",
       "    <tr>\n",
       "      <th>1</th>\n",
       "      <td>alabama</td>\n",
       "      <td>100%</td>\n",
       "      <td>19.2</td>\n",
       "      <td>2017</td>\n",
       "      <td>south</td>\n",
       "      <td>eastsouthcentral</td>\n",
       "    </tr>\n",
       "  </tbody>\n",
       "</table>\n",
       "</div>"
      ],
      "text/plain": [
       "      State Participation_ACT Total_ACT  Year Region          Division\n",
       "0  national               60%      21.0  2017    NaN               NaN\n",
       "1   alabama              100%      19.2  2017  south  eastsouthcentral"
      ]
     },
     "execution_count": 30,
     "metadata": {},
     "output_type": "execute_result"
    }
   ],
   "source": [
    "act_mapped.head(2)"
   ]
  },
  {
   "cell_type": "code",
   "execution_count": 31,
   "id": "3c4fea1c",
   "metadata": {},
   "outputs": [
    {
     "data": {
      "text/plain": [
       "(2, 6)"
      ]
     },
     "execution_count": 31,
     "metadata": {},
     "output_type": "execute_result"
    }
   ],
   "source": [
    "#Check how many did not get mapped\n",
    "missing_region = act_mapped[act_mapped['Region'].isna()]\n",
    "missing_region.shape"
   ]
  },
  {
   "cell_type": "code",
   "execution_count": 32,
   "id": "c8e2dd75",
   "metadata": {},
   "outputs": [
    {
     "data": {
      "text/plain": [
       "(1, 6)"
      ]
     },
     "execution_count": 32,
     "metadata": {},
     "output_type": "execute_result"
    }
   ],
   "source": [
    "missing_region_unique = missing_region.drop_duplicates(subset=['State'],  keep='last')\n",
    "missing_region_unique.shape\n",
    "#act_mapped.loc(act_mapped['Region'] == \"\" )\n",
    "#act_mapped['Region'].isna().sum()"
   ]
  },
  {
   "cell_type": "code",
   "execution_count": 33,
   "id": "68a2f292",
   "metadata": {},
   "outputs": [
    {
     "data": {
      "text/html": [
       "<div>\n",
       "<style scoped>\n",
       "    .dataframe tbody tr th:only-of-type {\n",
       "        vertical-align: middle;\n",
       "    }\n",
       "\n",
       "    .dataframe tbody tr th {\n",
       "        vertical-align: top;\n",
       "    }\n",
       "\n",
       "    .dataframe thead th {\n",
       "        text-align: right;\n",
       "    }\n",
       "</style>\n",
       "<table border=\"1\" class=\"dataframe\">\n",
       "  <thead>\n",
       "    <tr style=\"text-align: right;\">\n",
       "      <th></th>\n",
       "      <th>State</th>\n",
       "      <th>Participation_ACT</th>\n",
       "      <th>Total_ACT</th>\n",
       "      <th>Year</th>\n",
       "      <th>Region</th>\n",
       "      <th>Division</th>\n",
       "    </tr>\n",
       "  </thead>\n",
       "  <tbody>\n",
       "    <tr>\n",
       "      <th>155</th>\n",
       "      <td>national</td>\n",
       "      <td>52%</td>\n",
       "      <td>20.7</td>\n",
       "      <td>2019</td>\n",
       "      <td>NaN</td>\n",
       "      <td>NaN</td>\n",
       "    </tr>\n",
       "  </tbody>\n",
       "</table>\n",
       "</div>"
      ],
      "text/plain": [
       "        State Participation_ACT Total_ACT  Year Region Division\n",
       "155  national               52%      20.7  2019    NaN      NaN"
      ]
     },
     "execution_count": 33,
     "metadata": {},
     "output_type": "execute_result"
    }
   ],
   "source": [
    "missing_region_unique"
   ]
  },
  {
   "cell_type": "markdown",
   "id": "93837a26",
   "metadata": {},
   "source": [
    "## 2.2 Load SAT Data"
   ]
  },
  {
   "cell_type": "code",
   "execution_count": 34,
   "id": "90ddfc8c",
   "metadata": {},
   "outputs": [
    {
     "data": {
      "text/plain": [
       "Index(['State', 'Participation', 'Evidence-Based Reading and Writing', 'Math', 'Total'], dtype='object')"
      ]
     },
     "execution_count": 34,
     "metadata": {},
     "output_type": "execute_result"
    }
   ],
   "source": [
    "sat2017 = pd.read_csv('sat_2017.csv')\n",
    "sat2017.columns"
   ]
  },
  {
   "cell_type": "code",
   "execution_count": 35,
   "id": "3f4ad2b7",
   "metadata": {},
   "outputs": [
    {
     "data": {
      "text/plain": [
       "Index(['State', 'Participation', 'Evidence-Based Reading and Writing', 'Math', 'Total'], dtype='object')"
      ]
     },
     "execution_count": 35,
     "metadata": {},
     "output_type": "execute_result"
    }
   ],
   "source": [
    "sat2018 = pd.read_csv('sat_2018.csv')\n",
    "sat2018.columns"
   ]
  },
  {
   "cell_type": "code",
   "execution_count": 36,
   "id": "5a6ba480",
   "metadata": {},
   "outputs": [
    {
     "data": {
      "text/plain": [
       "Index(['State', 'Participation Rate', 'EBRW', 'Math', 'Total'], dtype='object')"
      ]
     },
     "execution_count": 36,
     "metadata": {},
     "output_type": "execute_result"
    }
   ],
   "source": [
    "sat2019 = pd.read_csv('sat_2019.csv')\n",
    "sat2019.columns"
   ]
  },
  {
   "cell_type": "code",
   "execution_count": 37,
   "id": "692188c1",
   "metadata": {},
   "outputs": [],
   "source": [
    "sat2019 = sat2019.rename(columns = {'EBRW':'Evidence-Based Reading and Writing', 'Participation Rate':'Participation'})"
   ]
  },
  {
   "cell_type": "code",
   "execution_count": 38,
   "id": "038e3ca4",
   "metadata": {},
   "outputs": [],
   "source": [
    "sat2017['Year']='2017'\n",
    "sat2018['Year']='2018'\n",
    "sat2019['Year']='2019'"
   ]
  },
  {
   "cell_type": "code",
   "execution_count": 39,
   "id": "d06d7f94",
   "metadata": {},
   "outputs": [],
   "source": [
    "sat2017['Type']='SAT'\n",
    "sat2018['Type']='SAT'\n",
    "sat2019['Type']='SAT'"
   ]
  },
  {
   "cell_type": "code",
   "execution_count": 40,
   "id": "770dcf1b",
   "metadata": {},
   "outputs": [],
   "source": [
    "sat = sat2017.append([sat2018, sat2019])"
   ]
  },
  {
   "cell_type": "code",
   "execution_count": 41,
   "id": "6aef69b0",
   "metadata": {},
   "outputs": [
    {
     "data": {
      "text/html": [
       "<div>\n",
       "<style scoped>\n",
       "    .dataframe tbody tr th:only-of-type {\n",
       "        vertical-align: middle;\n",
       "    }\n",
       "\n",
       "    .dataframe tbody tr th {\n",
       "        vertical-align: top;\n",
       "    }\n",
       "\n",
       "    .dataframe thead th {\n",
       "        text-align: right;\n",
       "    }\n",
       "</style>\n",
       "<table border=\"1\" class=\"dataframe\">\n",
       "  <thead>\n",
       "    <tr style=\"text-align: right;\">\n",
       "      <th></th>\n",
       "      <th>State</th>\n",
       "      <th>Participation</th>\n",
       "      <th>Evidence-Based Reading and Writing</th>\n",
       "      <th>Math</th>\n",
       "      <th>Total</th>\n",
       "      <th>Year</th>\n",
       "      <th>Type</th>\n",
       "    </tr>\n",
       "  </thead>\n",
       "  <tbody>\n",
       "    <tr>\n",
       "      <th>0</th>\n",
       "      <td>Alabama</td>\n",
       "      <td>5%</td>\n",
       "      <td>593</td>\n",
       "      <td>572</td>\n",
       "      <td>1165</td>\n",
       "      <td>2017</td>\n",
       "      <td>SAT</td>\n",
       "    </tr>\n",
       "    <tr>\n",
       "      <th>1</th>\n",
       "      <td>Alaska</td>\n",
       "      <td>38%</td>\n",
       "      <td>547</td>\n",
       "      <td>533</td>\n",
       "      <td>1080</td>\n",
       "      <td>2017</td>\n",
       "      <td>SAT</td>\n",
       "    </tr>\n",
       "  </tbody>\n",
       "</table>\n",
       "</div>"
      ],
      "text/plain": [
       "     State Participation  Evidence-Based Reading and Writing  Math  Total  Year Type\n",
       "0  Alabama            5%                                 593   572   1165  2017  SAT\n",
       "1   Alaska           38%                                 547   533   1080  2017  SAT"
      ]
     },
     "execution_count": 41,
     "metadata": {},
     "output_type": "execute_result"
    }
   ],
   "source": [
    "sat.head(2)"
   ]
  },
  {
   "cell_type": "code",
   "execution_count": 42,
   "id": "b4b8f717",
   "metadata": {},
   "outputs": [],
   "source": [
    "sat.rename(columns = {'Total':'Total_SAT', 'Participation':'Participation_SAT'}, inplace = True)"
   ]
  },
  {
   "cell_type": "code",
   "execution_count": 43,
   "id": "3e704fa5",
   "metadata": {},
   "outputs": [
    {
     "data": {
      "text/html": [
       "<div>\n",
       "<style scoped>\n",
       "    .dataframe tbody tr th:only-of-type {\n",
       "        vertical-align: middle;\n",
       "    }\n",
       "\n",
       "    .dataframe tbody tr th {\n",
       "        vertical-align: top;\n",
       "    }\n",
       "\n",
       "    .dataframe thead th {\n",
       "        text-align: right;\n",
       "    }\n",
       "</style>\n",
       "<table border=\"1\" class=\"dataframe\">\n",
       "  <thead>\n",
       "    <tr style=\"text-align: right;\">\n",
       "      <th></th>\n",
       "      <th>State</th>\n",
       "      <th>Participation_SAT</th>\n",
       "      <th>Evidence-Based Reading and Writing</th>\n",
       "      <th>Math</th>\n",
       "      <th>Total_SAT</th>\n",
       "      <th>Year</th>\n",
       "      <th>Type</th>\n",
       "    </tr>\n",
       "  </thead>\n",
       "  <tbody>\n",
       "    <tr>\n",
       "      <th>51</th>\n",
       "      <td>Wisconsin</td>\n",
       "      <td>3%</td>\n",
       "      <td>635</td>\n",
       "      <td>648</td>\n",
       "      <td>1283</td>\n",
       "      <td>2019</td>\n",
       "      <td>SAT</td>\n",
       "    </tr>\n",
       "    <tr>\n",
       "      <th>52</th>\n",
       "      <td>Wyoming</td>\n",
       "      <td>3%</td>\n",
       "      <td>623</td>\n",
       "      <td>615</td>\n",
       "      <td>1238</td>\n",
       "      <td>2019</td>\n",
       "      <td>SAT</td>\n",
       "    </tr>\n",
       "  </tbody>\n",
       "</table>\n",
       "</div>"
      ],
      "text/plain": [
       "        State Participation_SAT  Evidence-Based Reading and Writing  Math  Total_SAT  Year Type\n",
       "51  Wisconsin                3%                                 635   648       1283  2019  SAT\n",
       "52    Wyoming                3%                                 623   615       1238  2019  SAT"
      ]
     },
     "execution_count": 43,
     "metadata": {},
     "output_type": "execute_result"
    }
   ],
   "source": [
    "sat.tail(2)"
   ]
  },
  {
   "cell_type": "code",
   "execution_count": 44,
   "id": "d9e7c2a6",
   "metadata": {},
   "outputs": [],
   "source": [
    "sat['State'] = sat['State'].str.replace('\\s', '', regex=True).str.lower()"
   ]
  },
  {
   "cell_type": "code",
   "execution_count": 45,
   "id": "78598df0",
   "metadata": {},
   "outputs": [
    {
     "data": {
      "text/html": [
       "<div>\n",
       "<style scoped>\n",
       "    .dataframe tbody tr th:only-of-type {\n",
       "        vertical-align: middle;\n",
       "    }\n",
       "\n",
       "    .dataframe tbody tr th {\n",
       "        vertical-align: top;\n",
       "    }\n",
       "\n",
       "    .dataframe thead th {\n",
       "        text-align: right;\n",
       "    }\n",
       "</style>\n",
       "<table border=\"1\" class=\"dataframe\">\n",
       "  <thead>\n",
       "    <tr style=\"text-align: right;\">\n",
       "      <th></th>\n",
       "      <th>State</th>\n",
       "      <th>Participation_SAT</th>\n",
       "      <th>Evidence-Based Reading and Writing</th>\n",
       "      <th>Math</th>\n",
       "      <th>Total_SAT</th>\n",
       "      <th>Year</th>\n",
       "      <th>Type</th>\n",
       "    </tr>\n",
       "  </thead>\n",
       "  <tbody>\n",
       "    <tr>\n",
       "      <th>51</th>\n",
       "      <td>wisconsin</td>\n",
       "      <td>3%</td>\n",
       "      <td>635</td>\n",
       "      <td>648</td>\n",
       "      <td>1283</td>\n",
       "      <td>2019</td>\n",
       "      <td>SAT</td>\n",
       "    </tr>\n",
       "    <tr>\n",
       "      <th>52</th>\n",
       "      <td>wyoming</td>\n",
       "      <td>3%</td>\n",
       "      <td>623</td>\n",
       "      <td>615</td>\n",
       "      <td>1238</td>\n",
       "      <td>2019</td>\n",
       "      <td>SAT</td>\n",
       "    </tr>\n",
       "  </tbody>\n",
       "</table>\n",
       "</div>"
      ],
      "text/plain": [
       "        State Participation_SAT  Evidence-Based Reading and Writing  Math  Total_SAT  Year Type\n",
       "51  wisconsin                3%                                 635   648       1283  2019  SAT\n",
       "52    wyoming                3%                                 623   615       1238  2019  SAT"
      ]
     },
     "execution_count": 45,
     "metadata": {},
     "output_type": "execute_result"
    }
   ],
   "source": [
    "sat.tail(2)"
   ]
  },
  {
   "cell_type": "code",
   "execution_count": 46,
   "id": "a2e479a2",
   "metadata": {},
   "outputs": [
    {
     "name": "stdout",
     "output_type": "stream",
     "text": [
      "(155, 7)\n"
     ]
    }
   ],
   "source": [
    "print(sat.shape)"
   ]
  },
  {
   "cell_type": "code",
   "execution_count": 47,
   "id": "5f7648f3",
   "metadata": {},
   "outputs": [],
   "source": [
    "#Merge Mapping for Region\n",
    "sat_mapped = pd.merge(sat, RegionState, on='State',how ='left')"
   ]
  },
  {
   "cell_type": "code",
   "execution_count": 48,
   "id": "183149ce",
   "metadata": {},
   "outputs": [
    {
     "data": {
      "text/html": [
       "<div>\n",
       "<style scoped>\n",
       "    .dataframe tbody tr th:only-of-type {\n",
       "        vertical-align: middle;\n",
       "    }\n",
       "\n",
       "    .dataframe tbody tr th {\n",
       "        vertical-align: top;\n",
       "    }\n",
       "\n",
       "    .dataframe thead th {\n",
       "        text-align: right;\n",
       "    }\n",
       "</style>\n",
       "<table border=\"1\" class=\"dataframe\">\n",
       "  <thead>\n",
       "    <tr style=\"text-align: right;\">\n",
       "      <th></th>\n",
       "      <th>State</th>\n",
       "      <th>Participation_SAT</th>\n",
       "      <th>Evidence-Based Reading and Writing</th>\n",
       "      <th>Math</th>\n",
       "      <th>Total_SAT</th>\n",
       "      <th>Year</th>\n",
       "      <th>Type</th>\n",
       "      <th>Region</th>\n",
       "      <th>Division</th>\n",
       "    </tr>\n",
       "  </thead>\n",
       "  <tbody>\n",
       "    <tr>\n",
       "      <th>0</th>\n",
       "      <td>alabama</td>\n",
       "      <td>5%</td>\n",
       "      <td>593</td>\n",
       "      <td>572</td>\n",
       "      <td>1165</td>\n",
       "      <td>2017</td>\n",
       "      <td>SAT</td>\n",
       "      <td>south</td>\n",
       "      <td>eastsouthcentral</td>\n",
       "    </tr>\n",
       "    <tr>\n",
       "      <th>1</th>\n",
       "      <td>alaska</td>\n",
       "      <td>38%</td>\n",
       "      <td>547</td>\n",
       "      <td>533</td>\n",
       "      <td>1080</td>\n",
       "      <td>2017</td>\n",
       "      <td>SAT</td>\n",
       "      <td>west</td>\n",
       "      <td>pacific</td>\n",
       "    </tr>\n",
       "  </tbody>\n",
       "</table>\n",
       "</div>"
      ],
      "text/plain": [
       "     State Participation_SAT  Evidence-Based Reading and Writing  Math  Total_SAT  Year Type Region          Division\n",
       "0  alabama                5%                                 593   572       1165  2017  SAT  south  eastsouthcentral\n",
       "1   alaska               38%                                 547   533       1080  2017  SAT   west           pacific"
      ]
     },
     "execution_count": 48,
     "metadata": {},
     "output_type": "execute_result"
    }
   ],
   "source": [
    "sat_mapped.head(2)"
   ]
  },
  {
   "cell_type": "code",
   "execution_count": 49,
   "id": "d70afdf0",
   "metadata": {},
   "outputs": [
    {
     "data": {
      "text/plain": [
       "(2, 6)"
      ]
     },
     "execution_count": 49,
     "metadata": {},
     "output_type": "execute_result"
    }
   ],
   "source": [
    "missing_region = act_mapped[act_mapped['Region'].isna()]\n",
    "missing_region.shape"
   ]
  },
  {
   "cell_type": "code",
   "execution_count": 50,
   "id": "34211e22",
   "metadata": {},
   "outputs": [
    {
     "data": {
      "text/plain": [
       "(1, 6)"
      ]
     },
     "execution_count": 50,
     "metadata": {},
     "output_type": "execute_result"
    }
   ],
   "source": [
    "missing_region_unique = missing_region.drop_duplicates(subset=['State'],  keep='last')\n",
    "missing_region_unique.shape"
   ]
  },
  {
   "cell_type": "code",
   "execution_count": 51,
   "id": "8f489b51",
   "metadata": {},
   "outputs": [
    {
     "data": {
      "text/html": [
       "<div>\n",
       "<style scoped>\n",
       "    .dataframe tbody tr th:only-of-type {\n",
       "        vertical-align: middle;\n",
       "    }\n",
       "\n",
       "    .dataframe tbody tr th {\n",
       "        vertical-align: top;\n",
       "    }\n",
       "\n",
       "    .dataframe thead th {\n",
       "        text-align: right;\n",
       "    }\n",
       "</style>\n",
       "<table border=\"1\" class=\"dataframe\">\n",
       "  <thead>\n",
       "    <tr style=\"text-align: right;\">\n",
       "      <th></th>\n",
       "      <th>State</th>\n",
       "      <th>Participation_ACT</th>\n",
       "      <th>Total_ACT</th>\n",
       "      <th>Year</th>\n",
       "      <th>Region</th>\n",
       "      <th>Division</th>\n",
       "    </tr>\n",
       "  </thead>\n",
       "  <tbody>\n",
       "    <tr>\n",
       "      <th>155</th>\n",
       "      <td>national</td>\n",
       "      <td>52%</td>\n",
       "      <td>20.7</td>\n",
       "      <td>2019</td>\n",
       "      <td>NaN</td>\n",
       "      <td>NaN</td>\n",
       "    </tr>\n",
       "  </tbody>\n",
       "</table>\n",
       "</div>"
      ],
      "text/plain": [
       "        State Participation_ACT Total_ACT  Year Region Division\n",
       "155  national               52%      20.7  2019    NaN      NaN"
      ]
     },
     "execution_count": 51,
     "metadata": {},
     "output_type": "execute_result"
    }
   ],
   "source": [
    "missing_region_unique"
   ]
  },
  {
   "cell_type": "markdown",
   "id": "4d262e87",
   "metadata": {},
   "source": [
    "## 2.3 Combining ACT and SAT"
   ]
  },
  {
   "cell_type": "code",
   "execution_count": 52,
   "id": "4c190564",
   "metadata": {},
   "outputs": [
    {
     "data": {
      "text/html": [
       "<div>\n",
       "<style scoped>\n",
       "    .dataframe tbody tr th:only-of-type {\n",
       "        vertical-align: middle;\n",
       "    }\n",
       "\n",
       "    .dataframe tbody tr th {\n",
       "        vertical-align: top;\n",
       "    }\n",
       "\n",
       "    .dataframe thead th {\n",
       "        text-align: right;\n",
       "    }\n",
       "</style>\n",
       "<table border=\"1\" class=\"dataframe\">\n",
       "  <thead>\n",
       "    <tr style=\"text-align: right;\">\n",
       "      <th></th>\n",
       "      <th>State</th>\n",
       "      <th>Participation_ACT</th>\n",
       "      <th>Total_ACT</th>\n",
       "      <th>Year</th>\n",
       "      <th>Region</th>\n",
       "      <th>Division</th>\n",
       "    </tr>\n",
       "  </thead>\n",
       "  <tbody>\n",
       "    <tr>\n",
       "      <th>0</th>\n",
       "      <td>national</td>\n",
       "      <td>60%</td>\n",
       "      <td>21.0</td>\n",
       "      <td>2017</td>\n",
       "      <td>NaN</td>\n",
       "      <td>NaN</td>\n",
       "    </tr>\n",
       "    <tr>\n",
       "      <th>1</th>\n",
       "      <td>alabama</td>\n",
       "      <td>100%</td>\n",
       "      <td>19.2</td>\n",
       "      <td>2017</td>\n",
       "      <td>south</td>\n",
       "      <td>eastsouthcentral</td>\n",
       "    </tr>\n",
       "  </tbody>\n",
       "</table>\n",
       "</div>"
      ],
      "text/plain": [
       "      State Participation_ACT Total_ACT  Year Region          Division\n",
       "0  national               60%      21.0  2017    NaN               NaN\n",
       "1   alabama              100%      19.2  2017  south  eastsouthcentral"
      ]
     },
     "execution_count": 52,
     "metadata": {},
     "output_type": "execute_result"
    }
   ],
   "source": [
    "act_mapped.head(2)"
   ]
  },
  {
   "cell_type": "code",
   "execution_count": 53,
   "id": "9a47bbeb",
   "metadata": {},
   "outputs": [
    {
     "data": {
      "text/html": [
       "<div>\n",
       "<style scoped>\n",
       "    .dataframe tbody tr th:only-of-type {\n",
       "        vertical-align: middle;\n",
       "    }\n",
       "\n",
       "    .dataframe tbody tr th {\n",
       "        vertical-align: top;\n",
       "    }\n",
       "\n",
       "    .dataframe thead th {\n",
       "        text-align: right;\n",
       "    }\n",
       "</style>\n",
       "<table border=\"1\" class=\"dataframe\">\n",
       "  <thead>\n",
       "    <tr style=\"text-align: right;\">\n",
       "      <th></th>\n",
       "      <th>State</th>\n",
       "      <th>Participation_SAT</th>\n",
       "      <th>Evidence-Based Reading and Writing</th>\n",
       "      <th>Math</th>\n",
       "      <th>Total_SAT</th>\n",
       "      <th>Year</th>\n",
       "      <th>Type</th>\n",
       "      <th>Region</th>\n",
       "      <th>Division</th>\n",
       "    </tr>\n",
       "  </thead>\n",
       "  <tbody>\n",
       "    <tr>\n",
       "      <th>0</th>\n",
       "      <td>alabama</td>\n",
       "      <td>5%</td>\n",
       "      <td>593</td>\n",
       "      <td>572</td>\n",
       "      <td>1165</td>\n",
       "      <td>2017</td>\n",
       "      <td>SAT</td>\n",
       "      <td>south</td>\n",
       "      <td>eastsouthcentral</td>\n",
       "    </tr>\n",
       "    <tr>\n",
       "      <th>1</th>\n",
       "      <td>alaska</td>\n",
       "      <td>38%</td>\n",
       "      <td>547</td>\n",
       "      <td>533</td>\n",
       "      <td>1080</td>\n",
       "      <td>2017</td>\n",
       "      <td>SAT</td>\n",
       "      <td>west</td>\n",
       "      <td>pacific</td>\n",
       "    </tr>\n",
       "  </tbody>\n",
       "</table>\n",
       "</div>"
      ],
      "text/plain": [
       "     State Participation_SAT  Evidence-Based Reading and Writing  Math  Total_SAT  Year Type Region          Division\n",
       "0  alabama                5%                                 593   572       1165  2017  SAT  south  eastsouthcentral\n",
       "1   alaska               38%                                 547   533       1080  2017  SAT   west           pacific"
      ]
     },
     "execution_count": 53,
     "metadata": {},
     "output_type": "execute_result"
    }
   ],
   "source": [
    "sat_mapped.head(2)"
   ]
  },
  {
   "cell_type": "code",
   "execution_count": 54,
   "id": "31c390df",
   "metadata": {},
   "outputs": [],
   "source": [
    "#need to drop columns\n",
    "act_mapped = act_mapped[['State', 'Participation_ACT', 'Total_ACT', 'Year', 'Region', 'Division']]\n",
    "sat_mapped = sat_mapped[['State', 'Participation_SAT', 'Total_SAT', 'Year', 'Region', 'Division']]"
   ]
  },
  {
   "cell_type": "code",
   "execution_count": 55,
   "id": "2543d7a0",
   "metadata": {},
   "outputs": [
    {
     "data": {
      "text/html": [
       "<div>\n",
       "<style scoped>\n",
       "    .dataframe tbody tr th:only-of-type {\n",
       "        vertical-align: middle;\n",
       "    }\n",
       "\n",
       "    .dataframe tbody tr th {\n",
       "        vertical-align: top;\n",
       "    }\n",
       "\n",
       "    .dataframe thead th {\n",
       "        text-align: right;\n",
       "    }\n",
       "</style>\n",
       "<table border=\"1\" class=\"dataframe\">\n",
       "  <thead>\n",
       "    <tr style=\"text-align: right;\">\n",
       "      <th></th>\n",
       "      <th>State</th>\n",
       "      <th>Participation_ACT</th>\n",
       "      <th>Total_ACT</th>\n",
       "      <th>Year</th>\n",
       "      <th>Region</th>\n",
       "      <th>Division</th>\n",
       "    </tr>\n",
       "  </thead>\n",
       "  <tbody>\n",
       "    <tr>\n",
       "      <th>0</th>\n",
       "      <td>national</td>\n",
       "      <td>60%</td>\n",
       "      <td>21.0</td>\n",
       "      <td>2017</td>\n",
       "      <td>NaN</td>\n",
       "      <td>NaN</td>\n",
       "    </tr>\n",
       "    <tr>\n",
       "      <th>1</th>\n",
       "      <td>alabama</td>\n",
       "      <td>100%</td>\n",
       "      <td>19.2</td>\n",
       "      <td>2017</td>\n",
       "      <td>south</td>\n",
       "      <td>eastsouthcentral</td>\n",
       "    </tr>\n",
       "  </tbody>\n",
       "</table>\n",
       "</div>"
      ],
      "text/plain": [
       "      State Participation_ACT Total_ACT  Year Region          Division\n",
       "0  national               60%      21.0  2017    NaN               NaN\n",
       "1   alabama              100%      19.2  2017  south  eastsouthcentral"
      ]
     },
     "execution_count": 55,
     "metadata": {},
     "output_type": "execute_result"
    }
   ],
   "source": [
    "act_mapped.head(2)"
   ]
  },
  {
   "cell_type": "code",
   "execution_count": 56,
   "id": "6a2351ca",
   "metadata": {},
   "outputs": [
    {
     "data": {
      "text/html": [
       "<div>\n",
       "<style scoped>\n",
       "    .dataframe tbody tr th:only-of-type {\n",
       "        vertical-align: middle;\n",
       "    }\n",
       "\n",
       "    .dataframe tbody tr th {\n",
       "        vertical-align: top;\n",
       "    }\n",
       "\n",
       "    .dataframe thead th {\n",
       "        text-align: right;\n",
       "    }\n",
       "</style>\n",
       "<table border=\"1\" class=\"dataframe\">\n",
       "  <thead>\n",
       "    <tr style=\"text-align: right;\">\n",
       "      <th></th>\n",
       "      <th>State</th>\n",
       "      <th>Participation_SAT</th>\n",
       "      <th>Total_SAT</th>\n",
       "      <th>Year</th>\n",
       "      <th>Region</th>\n",
       "      <th>Division</th>\n",
       "    </tr>\n",
       "  </thead>\n",
       "  <tbody>\n",
       "    <tr>\n",
       "      <th>0</th>\n",
       "      <td>alabama</td>\n",
       "      <td>5%</td>\n",
       "      <td>1165</td>\n",
       "      <td>2017</td>\n",
       "      <td>south</td>\n",
       "      <td>eastsouthcentral</td>\n",
       "    </tr>\n",
       "    <tr>\n",
       "      <th>1</th>\n",
       "      <td>alaska</td>\n",
       "      <td>38%</td>\n",
       "      <td>1080</td>\n",
       "      <td>2017</td>\n",
       "      <td>west</td>\n",
       "      <td>pacific</td>\n",
       "    </tr>\n",
       "  </tbody>\n",
       "</table>\n",
       "</div>"
      ],
      "text/plain": [
       "     State Participation_SAT  Total_SAT  Year Region          Division\n",
       "0  alabama                5%       1165  2017  south  eastsouthcentral\n",
       "1   alaska               38%       1080  2017   west           pacific"
      ]
     },
     "execution_count": 56,
     "metadata": {},
     "output_type": "execute_result"
    }
   ],
   "source": [
    "sat_mapped.head(2)"
   ]
  },
  {
   "cell_type": "code",
   "execution_count": 57,
   "id": "e23f56b6",
   "metadata": {},
   "outputs": [],
   "source": [
    "#merge on 2 criteria\n",
    "Overall = pd.merge(act_mapped, sat_mapped, on =[\"State\", \"Year\"], how = 'left')"
   ]
  },
  {
   "cell_type": "code",
   "execution_count": 58,
   "id": "733520db",
   "metadata": {},
   "outputs": [
    {
     "data": {
      "text/html": [
       "<div>\n",
       "<style scoped>\n",
       "    .dataframe tbody tr th:only-of-type {\n",
       "        vertical-align: middle;\n",
       "    }\n",
       "\n",
       "    .dataframe tbody tr th {\n",
       "        vertical-align: top;\n",
       "    }\n",
       "\n",
       "    .dataframe thead th {\n",
       "        text-align: right;\n",
       "    }\n",
       "</style>\n",
       "<table border=\"1\" class=\"dataframe\">\n",
       "  <thead>\n",
       "    <tr style=\"text-align: right;\">\n",
       "      <th></th>\n",
       "      <th>State</th>\n",
       "      <th>Participation_ACT</th>\n",
       "      <th>Total_ACT</th>\n",
       "      <th>Year</th>\n",
       "      <th>Region_x</th>\n",
       "      <th>Division_x</th>\n",
       "      <th>Participation_SAT</th>\n",
       "      <th>Total_SAT</th>\n",
       "      <th>Region_y</th>\n",
       "      <th>Division_y</th>\n",
       "    </tr>\n",
       "  </thead>\n",
       "  <tbody>\n",
       "    <tr>\n",
       "      <th>0</th>\n",
       "      <td>national</td>\n",
       "      <td>60%</td>\n",
       "      <td>21.0</td>\n",
       "      <td>2017</td>\n",
       "      <td>NaN</td>\n",
       "      <td>NaN</td>\n",
       "      <td>NaN</td>\n",
       "      <td>NaN</td>\n",
       "      <td>NaN</td>\n",
       "      <td>NaN</td>\n",
       "    </tr>\n",
       "    <tr>\n",
       "      <th>1</th>\n",
       "      <td>alabama</td>\n",
       "      <td>100%</td>\n",
       "      <td>19.2</td>\n",
       "      <td>2017</td>\n",
       "      <td>south</td>\n",
       "      <td>eastsouthcentral</td>\n",
       "      <td>5%</td>\n",
       "      <td>1165.0</td>\n",
       "      <td>south</td>\n",
       "      <td>eastsouthcentral</td>\n",
       "    </tr>\n",
       "    <tr>\n",
       "      <th>2</th>\n",
       "      <td>alaska</td>\n",
       "      <td>65%</td>\n",
       "      <td>19.8</td>\n",
       "      <td>2017</td>\n",
       "      <td>west</td>\n",
       "      <td>pacific</td>\n",
       "      <td>38%</td>\n",
       "      <td>1080.0</td>\n",
       "      <td>west</td>\n",
       "      <td>pacific</td>\n",
       "    </tr>\n",
       "    <tr>\n",
       "      <th>3</th>\n",
       "      <td>arizona</td>\n",
       "      <td>62%</td>\n",
       "      <td>19.7</td>\n",
       "      <td>2017</td>\n",
       "      <td>west</td>\n",
       "      <td>mountain</td>\n",
       "      <td>30%</td>\n",
       "      <td>1116.0</td>\n",
       "      <td>west</td>\n",
       "      <td>mountain</td>\n",
       "    </tr>\n",
       "    <tr>\n",
       "      <th>4</th>\n",
       "      <td>arkansas</td>\n",
       "      <td>100%</td>\n",
       "      <td>19.4</td>\n",
       "      <td>2017</td>\n",
       "      <td>south</td>\n",
       "      <td>westsouthcentral</td>\n",
       "      <td>3%</td>\n",
       "      <td>1208.0</td>\n",
       "      <td>south</td>\n",
       "      <td>westsouthcentral</td>\n",
       "    </tr>\n",
       "    <tr>\n",
       "      <th>5</th>\n",
       "      <td>california</td>\n",
       "      <td>31%</td>\n",
       "      <td>22.8</td>\n",
       "      <td>2017</td>\n",
       "      <td>west</td>\n",
       "      <td>pacific</td>\n",
       "      <td>53%</td>\n",
       "      <td>1055.0</td>\n",
       "      <td>west</td>\n",
       "      <td>pacific</td>\n",
       "    </tr>\n",
       "    <tr>\n",
       "      <th>6</th>\n",
       "      <td>colorado</td>\n",
       "      <td>100%</td>\n",
       "      <td>20.8</td>\n",
       "      <td>2017</td>\n",
       "      <td>west</td>\n",
       "      <td>mountain</td>\n",
       "      <td>11%</td>\n",
       "      <td>1201.0</td>\n",
       "      <td>west</td>\n",
       "      <td>mountain</td>\n",
       "    </tr>\n",
       "    <tr>\n",
       "      <th>7</th>\n",
       "      <td>connecticut</td>\n",
       "      <td>31%</td>\n",
       "      <td>25.2</td>\n",
       "      <td>2017</td>\n",
       "      <td>northeast</td>\n",
       "      <td>newengland</td>\n",
       "      <td>100%</td>\n",
       "      <td>1041.0</td>\n",
       "      <td>northeast</td>\n",
       "      <td>newengland</td>\n",
       "    </tr>\n",
       "    <tr>\n",
       "      <th>8</th>\n",
       "      <td>delaware</td>\n",
       "      <td>18%</td>\n",
       "      <td>24.1</td>\n",
       "      <td>2017</td>\n",
       "      <td>south</td>\n",
       "      <td>southatlantic</td>\n",
       "      <td>100%</td>\n",
       "      <td>996.0</td>\n",
       "      <td>south</td>\n",
       "      <td>southatlantic</td>\n",
       "    </tr>\n",
       "    <tr>\n",
       "      <th>9</th>\n",
       "      <td>districtofcolumbia</td>\n",
       "      <td>32%</td>\n",
       "      <td>24.2</td>\n",
       "      <td>2017</td>\n",
       "      <td>south</td>\n",
       "      <td>southatlantic</td>\n",
       "      <td>100%</td>\n",
       "      <td>950.0</td>\n",
       "      <td>south</td>\n",
       "      <td>southatlantic</td>\n",
       "    </tr>\n",
       "  </tbody>\n",
       "</table>\n",
       "</div>"
      ],
      "text/plain": [
       "                State Participation_ACT Total_ACT  Year   Region_x        Division_x Participation_SAT  Total_SAT   Region_y        Division_y\n",
       "0            national               60%      21.0  2017        NaN               NaN               NaN        NaN        NaN               NaN\n",
       "1             alabama              100%      19.2  2017      south  eastsouthcentral                5%     1165.0      south  eastsouthcentral\n",
       "2              alaska               65%      19.8  2017       west           pacific               38%     1080.0       west           pacific\n",
       "3             arizona               62%      19.7  2017       west          mountain               30%     1116.0       west          mountain\n",
       "4            arkansas              100%      19.4  2017      south  westsouthcentral                3%     1208.0      south  westsouthcentral\n",
       "5          california               31%      22.8  2017       west           pacific               53%     1055.0       west           pacific\n",
       "6            colorado              100%      20.8  2017       west          mountain               11%     1201.0       west          mountain\n",
       "7         connecticut               31%      25.2  2017  northeast        newengland              100%     1041.0  northeast        newengland\n",
       "8            delaware               18%      24.1  2017      south     southatlantic              100%      996.0      south     southatlantic\n",
       "9  districtofcolumbia               32%      24.2  2017      south     southatlantic              100%      950.0      south     southatlantic"
      ]
     },
     "execution_count": 58,
     "metadata": {},
     "output_type": "execute_result"
    }
   ],
   "source": [
    "Overall.head(10)"
   ]
  },
  {
   "cell_type": "code",
   "execution_count": 59,
   "id": "7525d719",
   "metadata": {},
   "outputs": [],
   "source": [
    "Overall.drop(columns = ['Region_y', 'Division_y'], inplace = True)"
   ]
  },
  {
   "cell_type": "code",
   "execution_count": 60,
   "id": "ac37e0ce",
   "metadata": {},
   "outputs": [],
   "source": [
    "Overall.rename(columns = {'Region_x':'Region', 'Division_x':'Division'}, inplace=True)"
   ]
  },
  {
   "cell_type": "code",
   "execution_count": 61,
   "id": "f64c9151",
   "metadata": {},
   "outputs": [
    {
     "data": {
      "text/html": [
       "<div>\n",
       "<style scoped>\n",
       "    .dataframe tbody tr th:only-of-type {\n",
       "        vertical-align: middle;\n",
       "    }\n",
       "\n",
       "    .dataframe tbody tr th {\n",
       "        vertical-align: top;\n",
       "    }\n",
       "\n",
       "    .dataframe thead th {\n",
       "        text-align: right;\n",
       "    }\n",
       "</style>\n",
       "<table border=\"1\" class=\"dataframe\">\n",
       "  <thead>\n",
       "    <tr style=\"text-align: right;\">\n",
       "      <th></th>\n",
       "      <th>State</th>\n",
       "      <th>Participation_ACT</th>\n",
       "      <th>Total_ACT</th>\n",
       "      <th>Year</th>\n",
       "      <th>Region</th>\n",
       "      <th>Division</th>\n",
       "      <th>Participation_SAT</th>\n",
       "      <th>Total_SAT</th>\n",
       "    </tr>\n",
       "  </thead>\n",
       "  <tbody>\n",
       "    <tr>\n",
       "      <th>0</th>\n",
       "      <td>national</td>\n",
       "      <td>60%</td>\n",
       "      <td>21.0</td>\n",
       "      <td>2017</td>\n",
       "      <td>NaN</td>\n",
       "      <td>NaN</td>\n",
       "      <td>NaN</td>\n",
       "      <td>NaN</td>\n",
       "    </tr>\n",
       "    <tr>\n",
       "      <th>1</th>\n",
       "      <td>alabama</td>\n",
       "      <td>100%</td>\n",
       "      <td>19.2</td>\n",
       "      <td>2017</td>\n",
       "      <td>south</td>\n",
       "      <td>eastsouthcentral</td>\n",
       "      <td>5%</td>\n",
       "      <td>1165.0</td>\n",
       "    </tr>\n",
       "  </tbody>\n",
       "</table>\n",
       "</div>"
      ],
      "text/plain": [
       "      State Participation_ACT Total_ACT  Year Region          Division Participation_SAT  Total_SAT\n",
       "0  national               60%      21.0  2017    NaN               NaN               NaN        NaN\n",
       "1   alabama              100%      19.2  2017  south  eastsouthcentral                5%     1165.0"
      ]
     },
     "execution_count": 61,
     "metadata": {},
     "output_type": "execute_result"
    }
   ],
   "source": [
    "Overall.head(2)"
   ]
  },
  {
   "cell_type": "code",
   "execution_count": 62,
   "id": "ec611c27",
   "metadata": {},
   "outputs": [],
   "source": [
    "Overall.drop(labels=0, axis=0, inplace = True)"
   ]
  },
  {
   "cell_type": "code",
   "execution_count": 63,
   "id": "03e6fa2f",
   "metadata": {},
   "outputs": [
    {
     "data": {
      "text/html": [
       "<div>\n",
       "<style scoped>\n",
       "    .dataframe tbody tr th:only-of-type {\n",
       "        vertical-align: middle;\n",
       "    }\n",
       "\n",
       "    .dataframe tbody tr th {\n",
       "        vertical-align: top;\n",
       "    }\n",
       "\n",
       "    .dataframe thead th {\n",
       "        text-align: right;\n",
       "    }\n",
       "</style>\n",
       "<table border=\"1\" class=\"dataframe\">\n",
       "  <thead>\n",
       "    <tr style=\"text-align: right;\">\n",
       "      <th></th>\n",
       "      <th>State</th>\n",
       "      <th>Participation_ACT</th>\n",
       "      <th>Total_ACT</th>\n",
       "      <th>Year</th>\n",
       "      <th>Region</th>\n",
       "      <th>Division</th>\n",
       "      <th>Participation_SAT</th>\n",
       "      <th>Total_SAT</th>\n",
       "    </tr>\n",
       "  </thead>\n",
       "  <tbody>\n",
       "    <tr>\n",
       "      <th>1</th>\n",
       "      <td>alabama</td>\n",
       "      <td>100%</td>\n",
       "      <td>19.2</td>\n",
       "      <td>2017</td>\n",
       "      <td>south</td>\n",
       "      <td>eastsouthcentral</td>\n",
       "      <td>5%</td>\n",
       "      <td>1165.0</td>\n",
       "    </tr>\n",
       "    <tr>\n",
       "      <th>2</th>\n",
       "      <td>alaska</td>\n",
       "      <td>65%</td>\n",
       "      <td>19.8</td>\n",
       "      <td>2017</td>\n",
       "      <td>west</td>\n",
       "      <td>pacific</td>\n",
       "      <td>38%</td>\n",
       "      <td>1080.0</td>\n",
       "    </tr>\n",
       "  </tbody>\n",
       "</table>\n",
       "</div>"
      ],
      "text/plain": [
       "     State Participation_ACT Total_ACT  Year Region          Division Participation_SAT  Total_SAT\n",
       "1  alabama              100%      19.2  2017  south  eastsouthcentral                5%     1165.0\n",
       "2   alaska               65%      19.8  2017   west           pacific               38%     1080.0"
      ]
     },
     "execution_count": 63,
     "metadata": {},
     "output_type": "execute_result"
    }
   ],
   "source": [
    "Overall.head(2)"
   ]
  },
  {
   "cell_type": "code",
   "execution_count": 64,
   "id": "9570b128",
   "metadata": {},
   "outputs": [
    {
     "data": {
      "text/plain": [
       "State                 object\n",
       "Participation_ACT     object\n",
       "Total_ACT             object\n",
       "Year                  object\n",
       "Region                object\n",
       "Division              object\n",
       "Participation_SAT     object\n",
       "Total_SAT            float64\n",
       "dtype: object"
      ]
     },
     "execution_count": 64,
     "metadata": {},
     "output_type": "execute_result"
    }
   ],
   "source": [
    "Overall.dtypes"
   ]
  },
  {
   "cell_type": "code",
   "execution_count": 65,
   "id": "49d79e0f",
   "metadata": {},
   "outputs": [],
   "source": [
    "Overall['Participation_ACT'] = Overall['Participation_ACT'].replace({'%':''}, regex=True)\n",
    "Overall['Participation_SAT'] = Overall['Participation_SAT'].replace({'%':''}, regex=True)"
   ]
  },
  {
   "cell_type": "code",
   "execution_count": 66,
   "id": "770618c2",
   "metadata": {},
   "outputs": [
    {
     "data": {
      "text/plain": [
       "State                 object\n",
       "Participation_ACT     object\n",
       "Total_ACT             object\n",
       "Year                  object\n",
       "Region                object\n",
       "Division              object\n",
       "Participation_SAT     object\n",
       "Total_SAT            float64\n",
       "dtype: object"
      ]
     },
     "execution_count": 66,
     "metadata": {},
     "output_type": "execute_result"
    }
   ],
   "source": [
    "Overall.dtypes"
   ]
  },
  {
   "cell_type": "code",
   "execution_count": 67,
   "id": "6d328bb4",
   "metadata": {},
   "outputs": [],
   "source": [
    "Overall['Participation_ACT'] =pd.to_numeric(Overall[\"Participation_ACT\"], downcast='float')\n",
    "Overall['Participation_SAT'] =pd.to_numeric(Overall[\"Participation_SAT\"], downcast='float')"
   ]
  },
  {
   "cell_type": "code",
   "execution_count": 68,
   "id": "356f2c4b",
   "metadata": {},
   "outputs": [
    {
     "data": {
      "text/plain": [
       "State                 object\n",
       "Participation_ACT    float32\n",
       "Total_ACT             object\n",
       "Year                  object\n",
       "Region                object\n",
       "Division              object\n",
       "Participation_SAT    float32\n",
       "Total_SAT            float64\n",
       "dtype: object"
      ]
     },
     "execution_count": 68,
     "metadata": {},
     "output_type": "execute_result"
    }
   ],
   "source": [
    "Overall.dtypes"
   ]
  },
  {
   "cell_type": "code",
   "execution_count": null,
   "id": "11badcb5",
   "metadata": {},
   "outputs": [],
   "source": [
    "##Participation Rates"
   ]
  },
  {
   "cell_type": "code",
   "execution_count": 69,
   "id": "599888cb",
   "metadata": {},
   "outputs": [],
   "source": [
    "plt.rcParams.update({'figure.figsize':(5,5), 'figure.dpi':50})"
   ]
  },
  {
   "cell_type": "code",
   "execution_count": 70,
   "id": "705e3c89",
   "metadata": {},
   "outputs": [
    {
     "data": {
      "image/png": "[encoded data removed]",
      "text/plain": [
       "<Figure size 250x250 with 1 Axes>"
      ]
     },
     "metadata": {
      "needs_background": "light"
     },
     "output_type": "display_data"
    }
   ],
   "source": [
    "plt.scatter(x=Overall.loc[Overall['Year'] == '2017']['Participation_ACT'], \n",
    "            y=Overall.loc[Overall['Year'] == '2017']['Participation_SAT'], \n",
    "           marker = 'o', color = 'blue', label = '2017')\n",
    "# set the axis lables names\n",
    "plt.xlabel(\"Participation_ACT\")\n",
    "plt.ylabel(\"Participation_SAT\")\n",
    "\n",
    "plt.title(\"2017\")\n",
    "\n",
    "plt.show()"
   ]
  },
  {
   "cell_type": "code",
   "execution_count": 71,
   "id": "ce490c43",
   "metadata": {},
   "outputs": [
    {
     "data": {
      "image/png": "[encoded data removed]",
      "text/plain": [
       "<Figure size 250x250 with 1 Axes>"
      ]
     },
     "metadata": {
      "needs_background": "light"
     },
     "output_type": "display_data"
    }
   ],
   "source": [
    "plt.scatter(x=Overall.loc[Overall['Year'] == '2018']['Participation_ACT'], \n",
    "            y=Overall.loc[Overall['Year'] == '2018']['Participation_SAT'], \n",
    "           marker = 'o', color = 'blue', label = '2018')\n",
    "# set the axis lables names\n",
    "plt.xlabel(\"Participation_ACT\")\n",
    "plt.ylabel(\"Participation_SAT\")\n",
    "\n",
    "plt.title(\"2018\")\n",
    "\n",
    "plt.show()"
   ]
  },
  {
   "cell_type": "code",
   "execution_count": 72,
   "id": "60fb1e76",
   "metadata": {},
   "outputs": [
    {
     "data": {
      "image/png": "[encoded data removed]",
      "text/plain": [
       "<Figure size 250x250 with 1 Axes>"
      ]
     },
     "metadata": {
      "needs_background": "light"
     },
     "output_type": "display_data"
    }
   ],
   "source": [
    "plt.scatter(x=Overall.loc[Overall['Year'] == '2019']['Participation_ACT'], \n",
    "            y=Overall.loc[Overall['Year'] == '2019']['Participation_SAT'], \n",
    "           marker = 'o', color = 'blue', label = '2019')\n",
    "# set the axis lables names\n",
    "plt.xlabel(\"Participation_ACT\")\n",
    "plt.ylabel(\"Participation_SAT\")\n",
    "\n",
    "plt.title(\"2019\")\n",
    "\n",
    "plt.show()"
   ]
  },
  {
   "cell_type": "code",
   "execution_count": 98,
   "id": "04e98f1d",
   "metadata": {},
   "outputs": [
    {
     "data": {
      "image/png": "[encoded data removed]",
      "text/plain": [
       "<Figure size 800x450 with 3 Axes>"
      ]
     },
     "metadata": {
      "needs_background": "light"
     },
     "output_type": "display_data"
    }
   ],
   "source": [
    "# Establish figure size.\n",
    "plt.figure(figsize = (16,9))\n",
    "plt.rcParams.update({'figure.figsize':(5,5), 'figure.dpi':50})\n",
    "# We can create subplots, which allows us to have multiple subplots in the same plot.\n",
    "# plt.subplot(3, 1, 1) means we have 3 rows, 1 column, and are referencing plot 1.\n",
    "ax1 = plt.subplot(1, 3, 1)\n",
    "ax1.set_title('2017')\n",
    "ax1.scatter(x=Overall.loc[Overall['Year'] == '2019']['Participation_ACT'], \n",
    "            y=Overall.loc[Overall['Year'] == '2019']['Participation_SAT'], \n",
    "           marker = 'o', color = 'blue', label = '2019');\n",
    "\n",
    "# plt.subplot(3, 1, 2) means we have 3 rows, 1 column, and are referencing plot 2.\n",
    "ax2 = plt.subplot(1, 3, 2, sharex = ax1)\n",
    "ax2.set_title('2018')\n",
    "ax2.scatter(x=Overall.loc[Overall['Year'] == '2018']['Participation_ACT'], \n",
    "            y=Overall.loc[Overall['Year'] == '2018']['Participation_SAT'], \n",
    "           marker = 'o', color = 'blue', label = '2018');\n",
    "\n",
    "# plt.subplot(3, 1, 3) means we have 3 rows, 1 column, and are referencing plot 3.\n",
    "ax3 = plt.subplot(1, 3, 3, sharex = ax2)\n",
    "ax3.set_title('2019')\n",
    "ax3.scatter(x=Overall.loc[Overall['Year'] == '2019']['Participation_ACT'], \n",
    "            y=Overall.loc[Overall['Year'] == '2019']['Participation_SAT'], \n",
    "           marker = 'o', color = 'blue', label = '2019');\n",
    "\n",
    "###want to change the plots to be square"
   ]
  },
  {
   "cell_type": "code",
   "execution_count": null,
   "id": "502c15fd",
   "metadata": {},
   "outputs": [],
   "source": []
  },
  {
   "cell_type": "code",
   "execution_count": null,
   "id": "231779ea",
   "metadata": {},
   "outputs": [],
   "source": []
  },
  {
   "cell_type": "markdown",
   "id": "befcbb34",
   "metadata": {},
   "source": [
    "# 3. Data Viz"
   ]
  },
  {
   "cell_type": "markdown",
   "id": "193fd59f",
   "metadata": {},
   "source": [
    "## 3.1 Line Chart by Time"
   ]
  },
  {
   "cell_type": "code",
   "execution_count": 64,
   "id": "e145eda5",
   "metadata": {},
   "outputs": [
    {
     "ename": "ValueError",
     "evalue": "Unrecognized character T in format string",
     "output_type": "error",
     "traceback": [
      "\u001b[1;31m---------------------------------------------------------------------------\u001b[0m",
      "\u001b[1;31mValueError\u001b[0m                                Traceback (most recent call last)",
      "\u001b[1;32m<ipython-input-64-0977f399ed59>\u001b[0m in \u001b[0;36m<module>\u001b[1;34m\u001b[0m\n\u001b[0;32m      3\u001b[0m \u001b[1;33m\u001b[0m\u001b[0m\n\u001b[0;32m      4\u001b[0m \u001b[1;31m# Create line plot of Act volume over time.\u001b[0m\u001b[1;33m\u001b[0m\u001b[1;33m\u001b[0m\u001b[1;33m\u001b[0m\u001b[0m\n\u001b[1;32m----> 5\u001b[1;33m \u001b[0mplt\u001b[0m\u001b[1;33m.\u001b[0m\u001b[0mplot\u001b[0m\u001b[1;33m(\u001b[0m \u001b[1;34m'Year'\u001b[0m\u001b[1;33m,\u001b[0m \u001b[1;34m'Total'\u001b[0m\u001b[1;33m,\u001b[0m \u001b[0mdata\u001b[0m\u001b[1;33m=\u001b[0m\u001b[0mdf\u001b[0m\u001b[1;33m,\u001b[0m \u001b[0mmarker\u001b[0m\u001b[1;33m=\u001b[0m\u001b[1;34m'o'\u001b[0m\u001b[1;33m,\u001b[0m \u001b[0mmarkerfacecolor\u001b[0m\u001b[1;33m=\u001b[0m\u001b[1;34m'blue'\u001b[0m\u001b[1;33m,\u001b[0m \u001b[0mmarkersize\u001b[0m\u001b[1;33m=\u001b[0m\u001b[1;36m12\u001b[0m\u001b[1;33m,\u001b[0m \u001b[0mcolor\u001b[0m\u001b[1;33m=\u001b[0m\u001b[1;34m'skyblue'\u001b[0m\u001b[1;33m,\u001b[0m \u001b[0mlinewidth\u001b[0m\u001b[1;33m=\u001b[0m\u001b[1;36m4\u001b[0m\u001b[1;33m)\u001b[0m\u001b[1;33m\u001b[0m\u001b[1;33m\u001b[0m\u001b[0m\n\u001b[0m\u001b[0;32m      6\u001b[0m \u001b[1;33m\u001b[0m\u001b[0m\n",
      "\u001b[1;32m~\\anaconda3\\lib\\site-packages\\matplotlib\\pyplot.py\u001b[0m in \u001b[0;36mplot\u001b[1;34m(scalex, scaley, data, *args, **kwargs)\u001b[0m\n\u001b[0;32m   2838\u001b[0m \u001b[1;33m@\u001b[0m\u001b[0m_copy_docstring_and_deprecators\u001b[0m\u001b[1;33m(\u001b[0m\u001b[0mAxes\u001b[0m\u001b[1;33m.\u001b[0m\u001b[0mplot\u001b[0m\u001b[1;33m)\u001b[0m\u001b[1;33m\u001b[0m\u001b[1;33m\u001b[0m\u001b[0m\n\u001b[0;32m   2839\u001b[0m \u001b[1;32mdef\u001b[0m \u001b[0mplot\u001b[0m\u001b[1;33m(\u001b[0m\u001b[1;33m*\u001b[0m\u001b[0margs\u001b[0m\u001b[1;33m,\u001b[0m \u001b[0mscalex\u001b[0m\u001b[1;33m=\u001b[0m\u001b[1;32mTrue\u001b[0m\u001b[1;33m,\u001b[0m \u001b[0mscaley\u001b[0m\u001b[1;33m=\u001b[0m\u001b[1;32mTrue\u001b[0m\u001b[1;33m,\u001b[0m \u001b[0mdata\u001b[0m\u001b[1;33m=\u001b[0m\u001b[1;32mNone\u001b[0m\u001b[1;33m,\u001b[0m \u001b[1;33m**\u001b[0m\u001b[0mkwargs\u001b[0m\u001b[1;33m)\u001b[0m\u001b[1;33m:\u001b[0m\u001b[1;33m\u001b[0m\u001b[1;33m\u001b[0m\u001b[0m\n\u001b[1;32m-> 2840\u001b[1;33m     return gca().plot(\n\u001b[0m\u001b[0;32m   2841\u001b[0m         \u001b[1;33m*\u001b[0m\u001b[0margs\u001b[0m\u001b[1;33m,\u001b[0m \u001b[0mscalex\u001b[0m\u001b[1;33m=\u001b[0m\u001b[0mscalex\u001b[0m\u001b[1;33m,\u001b[0m \u001b[0mscaley\u001b[0m\u001b[1;33m=\u001b[0m\u001b[0mscaley\u001b[0m\u001b[1;33m,\u001b[0m\u001b[1;33m\u001b[0m\u001b[1;33m\u001b[0m\u001b[0m\n\u001b[0;32m   2842\u001b[0m         **({\"data\": data} if data is not None else {}), **kwargs)\n",
      "\u001b[1;32m~\\anaconda3\\lib\\site-packages\\matplotlib\\axes\\_axes.py\u001b[0m in \u001b[0;36mplot\u001b[1;34m(self, scalex, scaley, data, *args, **kwargs)\u001b[0m\n\u001b[0;32m   1741\u001b[0m         \"\"\"\n\u001b[0;32m   1742\u001b[0m         \u001b[0mkwargs\u001b[0m \u001b[1;33m=\u001b[0m \u001b[0mcbook\u001b[0m\u001b[1;33m.\u001b[0m\u001b[0mnormalize_kwargs\u001b[0m\u001b[1;33m(\u001b[0m\u001b[0mkwargs\u001b[0m\u001b[1;33m,\u001b[0m \u001b[0mmlines\u001b[0m\u001b[1;33m.\u001b[0m\u001b[0mLine2D\u001b[0m\u001b[1;33m)\u001b[0m\u001b[1;33m\u001b[0m\u001b[1;33m\u001b[0m\u001b[0m\n\u001b[1;32m-> 1743\u001b[1;33m         \u001b[0mlines\u001b[0m \u001b[1;33m=\u001b[0m \u001b[1;33m[\u001b[0m\u001b[1;33m*\u001b[0m\u001b[0mself\u001b[0m\u001b[1;33m.\u001b[0m\u001b[0m_get_lines\u001b[0m\u001b[1;33m(\u001b[0m\u001b[1;33m*\u001b[0m\u001b[0margs\u001b[0m\u001b[1;33m,\u001b[0m \u001b[0mdata\u001b[0m\u001b[1;33m=\u001b[0m\u001b[0mdata\u001b[0m\u001b[1;33m,\u001b[0m \u001b[1;33m**\u001b[0m\u001b[0mkwargs\u001b[0m\u001b[1;33m)\u001b[0m\u001b[1;33m]\u001b[0m\u001b[1;33m\u001b[0m\u001b[1;33m\u001b[0m\u001b[0m\n\u001b[0m\u001b[0;32m   1744\u001b[0m         \u001b[1;32mfor\u001b[0m \u001b[0mline\u001b[0m \u001b[1;32min\u001b[0m \u001b[0mlines\u001b[0m\u001b[1;33m:\u001b[0m\u001b[1;33m\u001b[0m\u001b[1;33m\u001b[0m\u001b[0m\n\u001b[0;32m   1745\u001b[0m             \u001b[0mself\u001b[0m\u001b[1;33m.\u001b[0m\u001b[0madd_line\u001b[0m\u001b[1;33m(\u001b[0m\u001b[0mline\u001b[0m\u001b[1;33m)\u001b[0m\u001b[1;33m\u001b[0m\u001b[1;33m\u001b[0m\u001b[0m\n",
      "\u001b[1;32m~\\anaconda3\\lib\\site-packages\\matplotlib\\axes\\_base.py\u001b[0m in \u001b[0;36m__call__\u001b[1;34m(self, data, *args, **kwargs)\u001b[0m\n\u001b[0;32m    271\u001b[0m                 \u001b[0mthis\u001b[0m \u001b[1;33m+=\u001b[0m \u001b[0margs\u001b[0m\u001b[1;33m[\u001b[0m\u001b[1;36m0\u001b[0m\u001b[1;33m]\u001b[0m\u001b[1;33m,\u001b[0m\u001b[1;33m\u001b[0m\u001b[1;33m\u001b[0m\u001b[0m\n\u001b[0;32m    272\u001b[0m                 \u001b[0margs\u001b[0m \u001b[1;33m=\u001b[0m \u001b[0margs\u001b[0m\u001b[1;33m[\u001b[0m\u001b[1;36m1\u001b[0m\u001b[1;33m:\u001b[0m\u001b[1;33m]\u001b[0m\u001b[1;33m\u001b[0m\u001b[1;33m\u001b[0m\u001b[0m\n\u001b[1;32m--> 273\u001b[1;33m             \u001b[1;32myield\u001b[0m \u001b[1;32mfrom\u001b[0m \u001b[0mself\u001b[0m\u001b[1;33m.\u001b[0m\u001b[0m_plot_args\u001b[0m\u001b[1;33m(\u001b[0m\u001b[0mthis\u001b[0m\u001b[1;33m,\u001b[0m \u001b[0mkwargs\u001b[0m\u001b[1;33m)\u001b[0m\u001b[1;33m\u001b[0m\u001b[1;33m\u001b[0m\u001b[0m\n\u001b[0m\u001b[0;32m    274\u001b[0m \u001b[1;33m\u001b[0m\u001b[0m\n\u001b[0;32m    275\u001b[0m     \u001b[1;32mdef\u001b[0m \u001b[0mget_next_color\u001b[0m\u001b[1;33m(\u001b[0m\u001b[0mself\u001b[0m\u001b[1;33m)\u001b[0m\u001b[1;33m:\u001b[0m\u001b[1;33m\u001b[0m\u001b[1;33m\u001b[0m\u001b[0m\n",
      "\u001b[1;32m~\\anaconda3\\lib\\site-packages\\matplotlib\\axes\\_base.py\u001b[0m in \u001b[0;36m_plot_args\u001b[1;34m(self, tup, kwargs)\u001b[0m\n\u001b[0;32m    367\u001b[0m     \u001b[1;32mdef\u001b[0m \u001b[0m_plot_args\u001b[0m\u001b[1;33m(\u001b[0m\u001b[0mself\u001b[0m\u001b[1;33m,\u001b[0m \u001b[0mtup\u001b[0m\u001b[1;33m,\u001b[0m \u001b[0mkwargs\u001b[0m\u001b[1;33m)\u001b[0m\u001b[1;33m:\u001b[0m\u001b[1;33m\u001b[0m\u001b[1;33m\u001b[0m\u001b[0m\n\u001b[0;32m    368\u001b[0m         \u001b[1;32mif\u001b[0m \u001b[0mlen\u001b[0m\u001b[1;33m(\u001b[0m\u001b[0mtup\u001b[0m\u001b[1;33m)\u001b[0m \u001b[1;33m>\u001b[0m \u001b[1;36m1\u001b[0m \u001b[1;32mand\u001b[0m \u001b[0misinstance\u001b[0m\u001b[1;33m(\u001b[0m\u001b[0mtup\u001b[0m\u001b[1;33m[\u001b[0m\u001b[1;33m-\u001b[0m\u001b[1;36m1\u001b[0m\u001b[1;33m]\u001b[0m\u001b[1;33m,\u001b[0m \u001b[0mstr\u001b[0m\u001b[1;33m)\u001b[0m\u001b[1;33m:\u001b[0m\u001b[1;33m\u001b[0m\u001b[1;33m\u001b[0m\u001b[0m\n\u001b[1;32m--> 369\u001b[1;33m             \u001b[0mlinestyle\u001b[0m\u001b[1;33m,\u001b[0m \u001b[0mmarker\u001b[0m\u001b[1;33m,\u001b[0m \u001b[0mcolor\u001b[0m \u001b[1;33m=\u001b[0m \u001b[0m_process_plot_format\u001b[0m\u001b[1;33m(\u001b[0m\u001b[0mtup\u001b[0m\u001b[1;33m[\u001b[0m\u001b[1;33m-\u001b[0m\u001b[1;36m1\u001b[0m\u001b[1;33m]\u001b[0m\u001b[1;33m)\u001b[0m\u001b[1;33m\u001b[0m\u001b[1;33m\u001b[0m\u001b[0m\n\u001b[0m\u001b[0;32m    370\u001b[0m             \u001b[0mtup\u001b[0m \u001b[1;33m=\u001b[0m \u001b[0mtup\u001b[0m\u001b[1;33m[\u001b[0m\u001b[1;33m:\u001b[0m\u001b[1;33m-\u001b[0m\u001b[1;36m1\u001b[0m\u001b[1;33m]\u001b[0m\u001b[1;33m\u001b[0m\u001b[1;33m\u001b[0m\u001b[0m\n\u001b[0;32m    371\u001b[0m         \u001b[1;32melif\u001b[0m \u001b[0mlen\u001b[0m\u001b[1;33m(\u001b[0m\u001b[0mtup\u001b[0m\u001b[1;33m)\u001b[0m \u001b[1;33m==\u001b[0m \u001b[1;36m3\u001b[0m\u001b[1;33m:\u001b[0m\u001b[1;33m\u001b[0m\u001b[1;33m\u001b[0m\u001b[0m\n",
      "\u001b[1;32m~\\anaconda3\\lib\\site-packages\\matplotlib\\axes\\_base.py\u001b[0m in \u001b[0;36m_process_plot_format\u001b[1;34m(fmt)\u001b[0m\n\u001b[0;32m    159\u001b[0m             \u001b[0mi\u001b[0m \u001b[1;33m+=\u001b[0m \u001b[1;36m2\u001b[0m\u001b[1;33m\u001b[0m\u001b[1;33m\u001b[0m\u001b[0m\n\u001b[0;32m    160\u001b[0m         \u001b[1;32melse\u001b[0m\u001b[1;33m:\u001b[0m\u001b[1;33m\u001b[0m\u001b[1;33m\u001b[0m\u001b[0m\n\u001b[1;32m--> 161\u001b[1;33m             raise ValueError(\n\u001b[0m\u001b[0;32m    162\u001b[0m                 'Unrecognized character %c in format string' % c)\n\u001b[0;32m    163\u001b[0m \u001b[1;33m\u001b[0m\u001b[0m\n",
      "\u001b[1;31mValueError\u001b[0m: Unrecognized character T in format string"
     ]
    },
    {
     "data": {
      "image/png": "[encoded data removed]",
      "text/plain": [
       "<Figure size 1152x648 with 1 Axes>"
      ]
     },
     "metadata": {
      "needs_background": "light"
     },
     "output_type": "display_data"
    }
   ],
   "source": [
    "# Establish the size of the figure.\n",
    "plt.figure(figsize = (16, 9))\n",
    "\n",
    "# Create line plot of Act volume over time.\n",
    "plt.plot( 'Year', 'Total', data=df, marker='o', markerfacecolor='blue', markersize=12, color='skyblue', linewidth=4)\n",
    "\n"
   ]
  },
  {
   "cell_type": "code",
   "execution_count": null,
   "id": "1fd50f25",
   "metadata": {},
   "outputs": [],
   "source": [
    "# Create line plot of NKE volume over time.\n",
    "plt.plot(Overall[Overall['Type'] == 'SAT']['Year'],\n",
    "         Overall[Overall['Type'] == 'SAT']['Total'],\n",
    "         label = 'NKE',\n",
    "         alpha = 0.5)\n",
    "\n",
    "plt.title('Stock Volume for Google and Nike')\n",
    "plt.ylabel('Stock Volume')\n",
    "plt.legend(loc = 'upper right', fontsize = 20);"
   ]
  },
  {
   "cell_type": "code",
   "execution_count": null,
   "id": "bc0207b9",
   "metadata": {},
   "outputs": [],
   "source": [
    "# Establish the size of the figure.\n",
    "plt.figure(figsize = (16, 9))\n",
    "\n",
    "# Create line plot of GOOG volume over time.\n",
    "plt.plot(stocks[stocks['ticker'] == 'GOOG']['date'],\n",
    "         stocks[stocks['ticker'] == 'GOOG']['volume'],\n",
    "         label = 'GOOG')\n",
    "\n",
    "# Create line plot of NKE volume over time.\n",
    "plt.plot(stocks[stocks['ticker'] == 'NKE']['date'],\n",
    "         stocks[stocks['ticker'] == 'NKE']['volume'],\n",
    "         label = 'NKE',\n",
    "         alpha = 0.5)\n",
    "\n",
    "plt.title('Stock Volume for Google and Nike')\n",
    "plt.ylabel('Stock Volume')\n",
    "plt.legend(loc = 'upper right', fontsize = 20);"
   ]
  },
  {
   "cell_type": "markdown",
   "id": "a17700c1",
   "metadata": {},
   "source": [
    "## 3.2 Box plot of snapshot"
   ]
  },
  {
   "cell_type": "code",
   "execution_count": null,
   "id": "7de43106",
   "metadata": {},
   "outputs": [],
   "source": []
  },
  {
   "cell_type": "code",
   "execution_count": null,
   "id": "093244d4",
   "metadata": {},
   "outputs": [],
   "source": []
  },
  {
   "cell_type": "code",
   "execution_count": null,
   "id": "16474867",
   "metadata": {},
   "outputs": [],
   "source": []
  }
 ],
 "metadata": {
  "kernelspec": {
   "display_name": "Python 3",
   "language": "python",
   "name": "python3"
  },
  "language_info": {
   "codemirror_mode": {
    "name": "ipython",
    "version": 3
   },
   "file_extension": ".py",
   "mimetype": "text/x-python",
   "name": "python",
   "nbconvert_exporter": "python",
   "pygments_lexer": "ipython3",
   "version": "3.8.8"
  }
 },
 "nbformat": 4,
 "nbformat_minor": 5
}
